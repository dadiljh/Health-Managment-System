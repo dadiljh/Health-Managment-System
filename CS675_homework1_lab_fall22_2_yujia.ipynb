{
  "cells": [
    {
      "cell_type": "markdown",
      "metadata": {
        "id": "view-in-github",
        "colab_type": "text"
      },
      "source": [
        "<a href=\"https://colab.research.google.com/github/dadiljh/Health-Managment-System/blob/main/CS675_homework1_lab_fall22_2_yujia.ipynb\" target=\"_parent\"><img src=\"https://colab.research.google.com/assets/colab-badge.svg\" alt=\"Open In Colab\"/></a>"
      ]
    },
    {
      "cell_type": "markdown",
      "metadata": {
        "id": "ds8YZP-yWQPe"
      },
      "source": [
        "# Homework 1: Lab\n",
        "### 10 points total\n",
        "### Version 1.0"
      ]
    },
    {
      "cell_type": "markdown",
      "metadata": {
        "id": "21s7sXeOWQPg"
      },
      "source": [
        "Yujia Wang (631FB8), PARTER2NAME (PARTNER2JHED), etc."
      ]
    },
    {
      "cell_type": "markdown",
      "metadata": {
        "id": "dAXaFDN1WQPh"
      },
      "source": [
        "**Instructions:**\n",
        "This notebook is intended to guide you through a regression task. Please answer all questions in this notebook (you will see <font color='blue'>TODO</font> annotations for where to include your answers). At the beginning of each part, we will bullet the expected deliverables for you to complete. All questions can be answered in 1-4 sentences, unless otherwise noted."
      ]
    },
    {
      "cell_type": "markdown",
      "metadata": {
        "id": "e-cH8eCxWQPh"
      },
      "source": [
        "## Part 1: Regression\n",
        "\n",
        "Things to do in this part:\n",
        "1. Find a dataset according to the instructions below\n",
        "2. Complete questions 1-2"
      ]
    },
    {
      "cell_type": "markdown",
      "metadata": {
        "id": "7wTMUf4JWQPh"
      },
      "source": [
        "Your task in this Lab is to explore a regression dataset from the UCI repository and train a linear regression model to solve the task."
      ]
    },
    {
      "cell_type": "markdown",
      "metadata": {
        "id": "I7qdEbUkWQPh"
      },
      "source": [
        "#### 1) Choose one datset from the UCI repository for regression task. \n",
        "\n",
        "https://archive.ics.uci.edu/ml/datasets.php?format=&task=reg&att=&area=&numAtt=&numIns=&type=&sort=nameUp&view=table\n",
        "\n",
        "*   Describe your dataset. State the features X and output variables Y you are interested in predicting clearly. What is the dimensionality of X and Y? Briefly, give some examples of what each dimension represents?"
      ]
    },
    {
      "cell_type": "markdown",
      "metadata": {
        "id": "ZGoGwhNiWQPh"
      },
      "source": [
        "<font color='blue'>\n",
        "    Description: this dataset consists of 6 real attributes and a real label. Features are about the characteristics of houses, and the label describes the price of the houses. From X1 to X6, features describes: the trasaction date of that house deal, house age, distance to the nearest MRT station, the number of convenience stores in the living circle on foot, the latitude and the longtitude of the house location. Dimensionality of X: (414, 6), of Y: (414, 1).\n",
        "</font>\n",
        "<br/>\n",
        "<font color='red'>\n",
        "Examples of data\n",
        "</font>"
      ]
    },
    {
      "cell_type": "markdown",
      "metadata": {
        "id": "BoqrKjiNWQPi"
      },
      "source": [
        "* Print a few examples of datapoints to show what the raw data looks like.\n",
        "\n"
      ]
    },
    {
      "cell_type": "code",
      "source": [
        "import numpy as np\n",
        "import pandas as pd\n",
        "import matplotlib.pyplot as plt\n",
        "import requests as r"
      ],
      "metadata": {
        "id": "l5uSthkPudA3"
      },
      "execution_count": null,
      "outputs": []
    },
    {
      "cell_type": "code",
      "source": [
        "data_link = 'https://archive.ics.uci.edu/ml/machine-learning-databases/00477/Real estate valuation data set.xlsx'\n",
        "dataset_name = 'Real estate valuation'"
      ],
      "metadata": {
        "id": "h17ss4KHuxjP"
      },
      "execution_count": null,
      "outputs": []
    },
    {
      "cell_type": "code",
      "source": [
        "req = r.get(data_link)\n",
        "\n",
        "with open('data.csv', 'wb') as f:\n",
        "  f.write(req.content)"
      ],
      "metadata": {
        "id": "z9v9AIrtB8Ss"
      },
      "execution_count": null,
      "outputs": []
    },
    {
      "cell_type": "code",
      "source": [
        "'''The inputs are as follows\n",
        "X1=the transaction date (for example, 2013.250=2013 March, 2013.500=2013 June, etc.)\n",
        "X2=the house age (unit: year)\n",
        "X3=the distance to the nearest MRT station (unit: meter)\n",
        "X4=the number of convenience stores in the living circle on foot (integer)\n",
        "X5=the geographic coordinate, latitude. (unit: degree)\n",
        "X6=the geographic coordinate, longitude. (unit: degree)\n",
        "\n",
        "The output is as follow\n",
        "Y= house price of unit area (10000 New Taiwan Dollar/Ping, where Ping is a local unit, 1 Ping = 3.3 meter squared)\n",
        "'''\n",
        "df = pd.read_excel('data.csv')\n",
        "df"
      ],
      "metadata": {
        "colab": {
          "base_uri": "https://localhost:8080/",
          "height": 424
        },
        "id": "DEQgoEEgu-hw",
        "outputId": "53b2506a-583b-419c-b21c-75173ebb4e55"
      },
      "execution_count": null,
      "outputs": [
        {
          "output_type": "execute_result",
          "data": {
            "text/plain": [
              "      No  X1 transaction date  X2 house age  \\\n",
              "0      1          2012.916667          32.0   \n",
              "1      2          2012.916667          19.5   \n",
              "2      3          2013.583333          13.3   \n",
              "3      4          2013.500000          13.3   \n",
              "4      5          2012.833333           5.0   \n",
              "..   ...                  ...           ...   \n",
              "409  410          2013.000000          13.7   \n",
              "410  411          2012.666667           5.6   \n",
              "411  412          2013.250000          18.8   \n",
              "412  413          2013.000000           8.1   \n",
              "413  414          2013.500000           6.5   \n",
              "\n",
              "     X3 distance to the nearest MRT station  X4 number of convenience stores  \\\n",
              "0                                  84.87882                               10   \n",
              "1                                 306.59470                                9   \n",
              "2                                 561.98450                                5   \n",
              "3                                 561.98450                                5   \n",
              "4                                 390.56840                                5   \n",
              "..                                      ...                              ...   \n",
              "409                              4082.01500                                0   \n",
              "410                                90.45606                                9   \n",
              "411                               390.96960                                7   \n",
              "412                               104.81010                                5   \n",
              "413                                90.45606                                9   \n",
              "\n",
              "     X5 latitude  X6 longitude  Y house price of unit area  \n",
              "0       24.98298     121.54024                        37.9  \n",
              "1       24.98034     121.53951                        42.2  \n",
              "2       24.98746     121.54391                        47.3  \n",
              "3       24.98746     121.54391                        54.8  \n",
              "4       24.97937     121.54245                        43.1  \n",
              "..           ...           ...                         ...  \n",
              "409     24.94155     121.50381                        15.4  \n",
              "410     24.97433     121.54310                        50.0  \n",
              "411     24.97923     121.53986                        40.6  \n",
              "412     24.96674     121.54067                        52.5  \n",
              "413     24.97433     121.54310                        63.9  \n",
              "\n",
              "[414 rows x 8 columns]"
            ],
            "text/html": [
              "\n",
              "  <div id=\"df-346e5911-f194-4765-80b6-6cf6a922d8d4\">\n",
              "    <div class=\"colab-df-container\">\n",
              "      <div>\n",
              "<style scoped>\n",
              "    .dataframe tbody tr th:only-of-type {\n",
              "        vertical-align: middle;\n",
              "    }\n",
              "\n",
              "    .dataframe tbody tr th {\n",
              "        vertical-align: top;\n",
              "    }\n",
              "\n",
              "    .dataframe thead th {\n",
              "        text-align: right;\n",
              "    }\n",
              "</style>\n",
              "<table border=\"1\" class=\"dataframe\">\n",
              "  <thead>\n",
              "    <tr style=\"text-align: right;\">\n",
              "      <th></th>\n",
              "      <th>No</th>\n",
              "      <th>X1 transaction date</th>\n",
              "      <th>X2 house age</th>\n",
              "      <th>X3 distance to the nearest MRT station</th>\n",
              "      <th>X4 number of convenience stores</th>\n",
              "      <th>X5 latitude</th>\n",
              "      <th>X6 longitude</th>\n",
              "      <th>Y house price of unit area</th>\n",
              "    </tr>\n",
              "  </thead>\n",
              "  <tbody>\n",
              "    <tr>\n",
              "      <th>0</th>\n",
              "      <td>1</td>\n",
              "      <td>2012.916667</td>\n",
              "      <td>32.0</td>\n",
              "      <td>84.87882</td>\n",
              "      <td>10</td>\n",
              "      <td>24.98298</td>\n",
              "      <td>121.54024</td>\n",
              "      <td>37.9</td>\n",
              "    </tr>\n",
              "    <tr>\n",
              "      <th>1</th>\n",
              "      <td>2</td>\n",
              "      <td>2012.916667</td>\n",
              "      <td>19.5</td>\n",
              "      <td>306.59470</td>\n",
              "      <td>9</td>\n",
              "      <td>24.98034</td>\n",
              "      <td>121.53951</td>\n",
              "      <td>42.2</td>\n",
              "    </tr>\n",
              "    <tr>\n",
              "      <th>2</th>\n",
              "      <td>3</td>\n",
              "      <td>2013.583333</td>\n",
              "      <td>13.3</td>\n",
              "      <td>561.98450</td>\n",
              "      <td>5</td>\n",
              "      <td>24.98746</td>\n",
              "      <td>121.54391</td>\n",
              "      <td>47.3</td>\n",
              "    </tr>\n",
              "    <tr>\n",
              "      <th>3</th>\n",
              "      <td>4</td>\n",
              "      <td>2013.500000</td>\n",
              "      <td>13.3</td>\n",
              "      <td>561.98450</td>\n",
              "      <td>5</td>\n",
              "      <td>24.98746</td>\n",
              "      <td>121.54391</td>\n",
              "      <td>54.8</td>\n",
              "    </tr>\n",
              "    <tr>\n",
              "      <th>4</th>\n",
              "      <td>5</td>\n",
              "      <td>2012.833333</td>\n",
              "      <td>5.0</td>\n",
              "      <td>390.56840</td>\n",
              "      <td>5</td>\n",
              "      <td>24.97937</td>\n",
              "      <td>121.54245</td>\n",
              "      <td>43.1</td>\n",
              "    </tr>\n",
              "    <tr>\n",
              "      <th>...</th>\n",
              "      <td>...</td>\n",
              "      <td>...</td>\n",
              "      <td>...</td>\n",
              "      <td>...</td>\n",
              "      <td>...</td>\n",
              "      <td>...</td>\n",
              "      <td>...</td>\n",
              "      <td>...</td>\n",
              "    </tr>\n",
              "    <tr>\n",
              "      <th>409</th>\n",
              "      <td>410</td>\n",
              "      <td>2013.000000</td>\n",
              "      <td>13.7</td>\n",
              "      <td>4082.01500</td>\n",
              "      <td>0</td>\n",
              "      <td>24.94155</td>\n",
              "      <td>121.50381</td>\n",
              "      <td>15.4</td>\n",
              "    </tr>\n",
              "    <tr>\n",
              "      <th>410</th>\n",
              "      <td>411</td>\n",
              "      <td>2012.666667</td>\n",
              "      <td>5.6</td>\n",
              "      <td>90.45606</td>\n",
              "      <td>9</td>\n",
              "      <td>24.97433</td>\n",
              "      <td>121.54310</td>\n",
              "      <td>50.0</td>\n",
              "    </tr>\n",
              "    <tr>\n",
              "      <th>411</th>\n",
              "      <td>412</td>\n",
              "      <td>2013.250000</td>\n",
              "      <td>18.8</td>\n",
              "      <td>390.96960</td>\n",
              "      <td>7</td>\n",
              "      <td>24.97923</td>\n",
              "      <td>121.53986</td>\n",
              "      <td>40.6</td>\n",
              "    </tr>\n",
              "    <tr>\n",
              "      <th>412</th>\n",
              "      <td>413</td>\n",
              "      <td>2013.000000</td>\n",
              "      <td>8.1</td>\n",
              "      <td>104.81010</td>\n",
              "      <td>5</td>\n",
              "      <td>24.96674</td>\n",
              "      <td>121.54067</td>\n",
              "      <td>52.5</td>\n",
              "    </tr>\n",
              "    <tr>\n",
              "      <th>413</th>\n",
              "      <td>414</td>\n",
              "      <td>2013.500000</td>\n",
              "      <td>6.5</td>\n",
              "      <td>90.45606</td>\n",
              "      <td>9</td>\n",
              "      <td>24.97433</td>\n",
              "      <td>121.54310</td>\n",
              "      <td>63.9</td>\n",
              "    </tr>\n",
              "  </tbody>\n",
              "</table>\n",
              "<p>414 rows × 8 columns</p>\n",
              "</div>\n",
              "      <button class=\"colab-df-convert\" onclick=\"convertToInteractive('df-346e5911-f194-4765-80b6-6cf6a922d8d4')\"\n",
              "              title=\"Convert this dataframe to an interactive table.\"\n",
              "              style=\"display:none;\">\n",
              "        \n",
              "  <svg xmlns=\"http://www.w3.org/2000/svg\" height=\"24px\"viewBox=\"0 0 24 24\"\n",
              "       width=\"24px\">\n",
              "    <path d=\"M0 0h24v24H0V0z\" fill=\"none\"/>\n",
              "    <path d=\"M18.56 5.44l.94 2.06.94-2.06 2.06-.94-2.06-.94-.94-2.06-.94 2.06-2.06.94zm-11 1L8.5 8.5l.94-2.06 2.06-.94-2.06-.94L8.5 2.5l-.94 2.06-2.06.94zm10 10l.94 2.06.94-2.06 2.06-.94-2.06-.94-.94-2.06-.94 2.06-2.06.94z\"/><path d=\"M17.41 7.96l-1.37-1.37c-.4-.4-.92-.59-1.43-.59-.52 0-1.04.2-1.43.59L10.3 9.45l-7.72 7.72c-.78.78-.78 2.05 0 2.83L4 21.41c.39.39.9.59 1.41.59.51 0 1.02-.2 1.41-.59l7.78-7.78 2.81-2.81c.8-.78.8-2.07 0-2.86zM5.41 20L4 18.59l7.72-7.72 1.47 1.35L5.41 20z\"/>\n",
              "  </svg>\n",
              "      </button>\n",
              "      \n",
              "  <style>\n",
              "    .colab-df-container {\n",
              "      display:flex;\n",
              "      flex-wrap:wrap;\n",
              "      gap: 12px;\n",
              "    }\n",
              "\n",
              "    .colab-df-convert {\n",
              "      background-color: #E8F0FE;\n",
              "      border: none;\n",
              "      border-radius: 50%;\n",
              "      cursor: pointer;\n",
              "      display: none;\n",
              "      fill: #1967D2;\n",
              "      height: 32px;\n",
              "      padding: 0 0 0 0;\n",
              "      width: 32px;\n",
              "    }\n",
              "\n",
              "    .colab-df-convert:hover {\n",
              "      background-color: #E2EBFA;\n",
              "      box-shadow: 0px 1px 2px rgba(60, 64, 67, 0.3), 0px 1px 3px 1px rgba(60, 64, 67, 0.15);\n",
              "      fill: #174EA6;\n",
              "    }\n",
              "\n",
              "    [theme=dark] .colab-df-convert {\n",
              "      background-color: #3B4455;\n",
              "      fill: #D2E3FC;\n",
              "    }\n",
              "\n",
              "    [theme=dark] .colab-df-convert:hover {\n",
              "      background-color: #434B5C;\n",
              "      box-shadow: 0px 1px 3px 1px rgba(0, 0, 0, 0.15);\n",
              "      filter: drop-shadow(0px 1px 2px rgba(0, 0, 0, 0.3));\n",
              "      fill: #FFFFFF;\n",
              "    }\n",
              "  </style>\n",
              "\n",
              "      <script>\n",
              "        const buttonEl =\n",
              "          document.querySelector('#df-346e5911-f194-4765-80b6-6cf6a922d8d4 button.colab-df-convert');\n",
              "        buttonEl.style.display =\n",
              "          google.colab.kernel.accessAllowed ? 'block' : 'none';\n",
              "\n",
              "        async function convertToInteractive(key) {\n",
              "          const element = document.querySelector('#df-346e5911-f194-4765-80b6-6cf6a922d8d4');\n",
              "          const dataTable =\n",
              "            await google.colab.kernel.invokeFunction('convertToInteractive',\n",
              "                                                     [key], {});\n",
              "          if (!dataTable) return;\n",
              "\n",
              "          const docLinkHtml = 'Like what you see? Visit the ' +\n",
              "            '<a target=\"_blank\" href=https://colab.research.google.com/notebooks/data_table.ipynb>data table notebook</a>'\n",
              "            + ' to learn more about interactive tables.';\n",
              "          element.innerHTML = '';\n",
              "          dataTable['output_type'] = 'display_data';\n",
              "          await google.colab.output.renderOutput(dataTable, element);\n",
              "          const docLink = document.createElement('div');\n",
              "          docLink.innerHTML = docLinkHtml;\n",
              "          element.appendChild(docLink);\n",
              "        }\n",
              "      </script>\n",
              "    </div>\n",
              "  </div>\n",
              "  "
            ]
          },
          "metadata": {},
          "execution_count": 4
        }
      ]
    },
    {
      "cell_type": "code",
      "source": [
        "# remove NaN\n",
        "df1 = df.dropna()\n",
        "# drop irrelevant columns: no\n",
        "df1 = df1.drop(['No'], axis=1)\n",
        "df1"
      ],
      "metadata": {
        "colab": {
          "base_uri": "https://localhost:8080/",
          "height": 424
        },
        "id": "swmFjG6KOZEu",
        "outputId": "526a2bba-12d1-4042-b520-e5dbf0082537"
      },
      "execution_count": null,
      "outputs": [
        {
          "output_type": "execute_result",
          "data": {
            "text/plain": [
              "     X1 transaction date  X2 house age  \\\n",
              "0            2012.916667          32.0   \n",
              "1            2012.916667          19.5   \n",
              "2            2013.583333          13.3   \n",
              "3            2013.500000          13.3   \n",
              "4            2012.833333           5.0   \n",
              "..                   ...           ...   \n",
              "409          2013.000000          13.7   \n",
              "410          2012.666667           5.6   \n",
              "411          2013.250000          18.8   \n",
              "412          2013.000000           8.1   \n",
              "413          2013.500000           6.5   \n",
              "\n",
              "     X3 distance to the nearest MRT station  X4 number of convenience stores  \\\n",
              "0                                  84.87882                               10   \n",
              "1                                 306.59470                                9   \n",
              "2                                 561.98450                                5   \n",
              "3                                 561.98450                                5   \n",
              "4                                 390.56840                                5   \n",
              "..                                      ...                              ...   \n",
              "409                              4082.01500                                0   \n",
              "410                                90.45606                                9   \n",
              "411                               390.96960                                7   \n",
              "412                               104.81010                                5   \n",
              "413                                90.45606                                9   \n",
              "\n",
              "     X5 latitude  X6 longitude  Y house price of unit area  \n",
              "0       24.98298     121.54024                        37.9  \n",
              "1       24.98034     121.53951                        42.2  \n",
              "2       24.98746     121.54391                        47.3  \n",
              "3       24.98746     121.54391                        54.8  \n",
              "4       24.97937     121.54245                        43.1  \n",
              "..           ...           ...                         ...  \n",
              "409     24.94155     121.50381                        15.4  \n",
              "410     24.97433     121.54310                        50.0  \n",
              "411     24.97923     121.53986                        40.6  \n",
              "412     24.96674     121.54067                        52.5  \n",
              "413     24.97433     121.54310                        63.9  \n",
              "\n",
              "[414 rows x 7 columns]"
            ],
            "text/html": [
              "\n",
              "  <div id=\"df-a26fba67-6d7a-4cbd-9fbf-aa18de554013\">\n",
              "    <div class=\"colab-df-container\">\n",
              "      <div>\n",
              "<style scoped>\n",
              "    .dataframe tbody tr th:only-of-type {\n",
              "        vertical-align: middle;\n",
              "    }\n",
              "\n",
              "    .dataframe tbody tr th {\n",
              "        vertical-align: top;\n",
              "    }\n",
              "\n",
              "    .dataframe thead th {\n",
              "        text-align: right;\n",
              "    }\n",
              "</style>\n",
              "<table border=\"1\" class=\"dataframe\">\n",
              "  <thead>\n",
              "    <tr style=\"text-align: right;\">\n",
              "      <th></th>\n",
              "      <th>X1 transaction date</th>\n",
              "      <th>X2 house age</th>\n",
              "      <th>X3 distance to the nearest MRT station</th>\n",
              "      <th>X4 number of convenience stores</th>\n",
              "      <th>X5 latitude</th>\n",
              "      <th>X6 longitude</th>\n",
              "      <th>Y house price of unit area</th>\n",
              "    </tr>\n",
              "  </thead>\n",
              "  <tbody>\n",
              "    <tr>\n",
              "      <th>0</th>\n",
              "      <td>2012.916667</td>\n",
              "      <td>32.0</td>\n",
              "      <td>84.87882</td>\n",
              "      <td>10</td>\n",
              "      <td>24.98298</td>\n",
              "      <td>121.54024</td>\n",
              "      <td>37.9</td>\n",
              "    </tr>\n",
              "    <tr>\n",
              "      <th>1</th>\n",
              "      <td>2012.916667</td>\n",
              "      <td>19.5</td>\n",
              "      <td>306.59470</td>\n",
              "      <td>9</td>\n",
              "      <td>24.98034</td>\n",
              "      <td>121.53951</td>\n",
              "      <td>42.2</td>\n",
              "    </tr>\n",
              "    <tr>\n",
              "      <th>2</th>\n",
              "      <td>2013.583333</td>\n",
              "      <td>13.3</td>\n",
              "      <td>561.98450</td>\n",
              "      <td>5</td>\n",
              "      <td>24.98746</td>\n",
              "      <td>121.54391</td>\n",
              "      <td>47.3</td>\n",
              "    </tr>\n",
              "    <tr>\n",
              "      <th>3</th>\n",
              "      <td>2013.500000</td>\n",
              "      <td>13.3</td>\n",
              "      <td>561.98450</td>\n",
              "      <td>5</td>\n",
              "      <td>24.98746</td>\n",
              "      <td>121.54391</td>\n",
              "      <td>54.8</td>\n",
              "    </tr>\n",
              "    <tr>\n",
              "      <th>4</th>\n",
              "      <td>2012.833333</td>\n",
              "      <td>5.0</td>\n",
              "      <td>390.56840</td>\n",
              "      <td>5</td>\n",
              "      <td>24.97937</td>\n",
              "      <td>121.54245</td>\n",
              "      <td>43.1</td>\n",
              "    </tr>\n",
              "    <tr>\n",
              "      <th>...</th>\n",
              "      <td>...</td>\n",
              "      <td>...</td>\n",
              "      <td>...</td>\n",
              "      <td>...</td>\n",
              "      <td>...</td>\n",
              "      <td>...</td>\n",
              "      <td>...</td>\n",
              "    </tr>\n",
              "    <tr>\n",
              "      <th>409</th>\n",
              "      <td>2013.000000</td>\n",
              "      <td>13.7</td>\n",
              "      <td>4082.01500</td>\n",
              "      <td>0</td>\n",
              "      <td>24.94155</td>\n",
              "      <td>121.50381</td>\n",
              "      <td>15.4</td>\n",
              "    </tr>\n",
              "    <tr>\n",
              "      <th>410</th>\n",
              "      <td>2012.666667</td>\n",
              "      <td>5.6</td>\n",
              "      <td>90.45606</td>\n",
              "      <td>9</td>\n",
              "      <td>24.97433</td>\n",
              "      <td>121.54310</td>\n",
              "      <td>50.0</td>\n",
              "    </tr>\n",
              "    <tr>\n",
              "      <th>411</th>\n",
              "      <td>2013.250000</td>\n",
              "      <td>18.8</td>\n",
              "      <td>390.96960</td>\n",
              "      <td>7</td>\n",
              "      <td>24.97923</td>\n",
              "      <td>121.53986</td>\n",
              "      <td>40.6</td>\n",
              "    </tr>\n",
              "    <tr>\n",
              "      <th>412</th>\n",
              "      <td>2013.000000</td>\n",
              "      <td>8.1</td>\n",
              "      <td>104.81010</td>\n",
              "      <td>5</td>\n",
              "      <td>24.96674</td>\n",
              "      <td>121.54067</td>\n",
              "      <td>52.5</td>\n",
              "    </tr>\n",
              "    <tr>\n",
              "      <th>413</th>\n",
              "      <td>2013.500000</td>\n",
              "      <td>6.5</td>\n",
              "      <td>90.45606</td>\n",
              "      <td>9</td>\n",
              "      <td>24.97433</td>\n",
              "      <td>121.54310</td>\n",
              "      <td>63.9</td>\n",
              "    </tr>\n",
              "  </tbody>\n",
              "</table>\n",
              "<p>414 rows × 7 columns</p>\n",
              "</div>\n",
              "      <button class=\"colab-df-convert\" onclick=\"convertToInteractive('df-a26fba67-6d7a-4cbd-9fbf-aa18de554013')\"\n",
              "              title=\"Convert this dataframe to an interactive table.\"\n",
              "              style=\"display:none;\">\n",
              "        \n",
              "  <svg xmlns=\"http://www.w3.org/2000/svg\" height=\"24px\"viewBox=\"0 0 24 24\"\n",
              "       width=\"24px\">\n",
              "    <path d=\"M0 0h24v24H0V0z\" fill=\"none\"/>\n",
              "    <path d=\"M18.56 5.44l.94 2.06.94-2.06 2.06-.94-2.06-.94-.94-2.06-.94 2.06-2.06.94zm-11 1L8.5 8.5l.94-2.06 2.06-.94-2.06-.94L8.5 2.5l-.94 2.06-2.06.94zm10 10l.94 2.06.94-2.06 2.06-.94-2.06-.94-.94-2.06-.94 2.06-2.06.94z\"/><path d=\"M17.41 7.96l-1.37-1.37c-.4-.4-.92-.59-1.43-.59-.52 0-1.04.2-1.43.59L10.3 9.45l-7.72 7.72c-.78.78-.78 2.05 0 2.83L4 21.41c.39.39.9.59 1.41.59.51 0 1.02-.2 1.41-.59l7.78-7.78 2.81-2.81c.8-.78.8-2.07 0-2.86zM5.41 20L4 18.59l7.72-7.72 1.47 1.35L5.41 20z\"/>\n",
              "  </svg>\n",
              "      </button>\n",
              "      \n",
              "  <style>\n",
              "    .colab-df-container {\n",
              "      display:flex;\n",
              "      flex-wrap:wrap;\n",
              "      gap: 12px;\n",
              "    }\n",
              "\n",
              "    .colab-df-convert {\n",
              "      background-color: #E8F0FE;\n",
              "      border: none;\n",
              "      border-radius: 50%;\n",
              "      cursor: pointer;\n",
              "      display: none;\n",
              "      fill: #1967D2;\n",
              "      height: 32px;\n",
              "      padding: 0 0 0 0;\n",
              "      width: 32px;\n",
              "    }\n",
              "\n",
              "    .colab-df-convert:hover {\n",
              "      background-color: #E2EBFA;\n",
              "      box-shadow: 0px 1px 2px rgba(60, 64, 67, 0.3), 0px 1px 3px 1px rgba(60, 64, 67, 0.15);\n",
              "      fill: #174EA6;\n",
              "    }\n",
              "\n",
              "    [theme=dark] .colab-df-convert {\n",
              "      background-color: #3B4455;\n",
              "      fill: #D2E3FC;\n",
              "    }\n",
              "\n",
              "    [theme=dark] .colab-df-convert:hover {\n",
              "      background-color: #434B5C;\n",
              "      box-shadow: 0px 1px 3px 1px rgba(0, 0, 0, 0.15);\n",
              "      filter: drop-shadow(0px 1px 2px rgba(0, 0, 0, 0.3));\n",
              "      fill: #FFFFFF;\n",
              "    }\n",
              "  </style>\n",
              "\n",
              "      <script>\n",
              "        const buttonEl =\n",
              "          document.querySelector('#df-a26fba67-6d7a-4cbd-9fbf-aa18de554013 button.colab-df-convert');\n",
              "        buttonEl.style.display =\n",
              "          google.colab.kernel.accessAllowed ? 'block' : 'none';\n",
              "\n",
              "        async function convertToInteractive(key) {\n",
              "          const element = document.querySelector('#df-a26fba67-6d7a-4cbd-9fbf-aa18de554013');\n",
              "          const dataTable =\n",
              "            await google.colab.kernel.invokeFunction('convertToInteractive',\n",
              "                                                     [key], {});\n",
              "          if (!dataTable) return;\n",
              "\n",
              "          const docLinkHtml = 'Like what you see? Visit the ' +\n",
              "            '<a target=\"_blank\" href=https://colab.research.google.com/notebooks/data_table.ipynb>data table notebook</a>'\n",
              "            + ' to learn more about interactive tables.';\n",
              "          element.innerHTML = '';\n",
              "          dataTable['output_type'] = 'display_data';\n",
              "          await google.colab.output.renderOutput(dataTable, element);\n",
              "          const docLink = document.createElement('div');\n",
              "          docLink.innerHTML = docLinkHtml;\n",
              "          element.appendChild(docLink);\n",
              "        }\n",
              "      </script>\n",
              "    </div>\n",
              "  </div>\n",
              "  "
            ]
          },
          "metadata": {},
          "execution_count": 6
        }
      ]
    },
    {
      "cell_type": "code",
      "execution_count": null,
      "metadata": {
        "id": "h-YC6tBMWQPi",
        "colab": {
          "base_uri": "https://localhost:8080/"
        },
        "outputId": "d65d89eb-61fd-4044-cda2-7bf09b33356d"
      },
      "outputs": [
        {
          "output_type": "stream",
          "name": "stdout",
          "text": [
            "[[2012.9166667   32.          84.87882     10.          24.98298\n",
            "   121.54024  ]\n",
            " [2012.9166667   19.5        306.5947       9.          24.98034\n",
            "   121.53951  ]\n",
            " [2013.5833333   13.3        561.9845       5.          24.98746\n",
            "   121.54391  ]]\n",
            "[37.9 42.2 47.3]\n"
          ]
        }
      ],
      "source": [
        "#######################################################\n",
        "# TODO: Read in your raw data\n",
        "# It is recommended you store your X and Y matrices into numpy arrays\n",
        "X = df1.to_numpy()[:, :6]\n",
        "y = df1.to_numpy()[:, 6]\n",
        "#######################################################\n",
        "\n",
        "print (X[:3]) #print the first three rows of your features\n",
        "print (y[:3]) #print the first three rows of your features"
      ]
    },
    {
      "cell_type": "code",
      "source": [
        "'''special handle for date:\n",
        "Date value is much larger than all other sections.\n",
        "Intuitively, as the integer part of date represents the year,\n",
        "we subtract all the date value with the smallest integer section appear in the set. \n",
        "'''\n",
        "import math\n",
        "\n",
        "smallest_year = math.floor(np.min(X[:,0]))\n",
        "X[:,0] -= smallest_year\n",
        "\n",
        "# normalize X\n",
        "\n",
        "X_min = np.min(X)\n",
        "X_max = np.max(X)\n",
        "X_range = X_max - X_min\n",
        "X_norm = (X-X_min)/X_range\n",
        "\n",
        "print(X[:3])\n",
        "print(X_norm[:3])"
      ],
      "metadata": {
        "colab": {
          "base_uri": "https://localhost:8080/"
        },
        "id": "HoDS0LMjGuPC",
        "outputId": "1d32a7a6-3cb6-4dab-f054-ea7220174973"
      },
      "execution_count": null,
      "outputs": [
        {
          "output_type": "stream",
          "name": "stdout",
          "text": [
            "[[  0.9166667  32.         84.87882    10.         24.98298   121.54024  ]\n",
            " [  0.9166667  19.5       306.5947      9.         24.98034   121.53951  ]\n",
            " [  1.5833333  13.3       561.9845      5.         24.98746   121.54391  ]]\n",
            "[[0.00014129 0.00493217 0.01308239 0.0015413  0.00385063 0.01873302]\n",
            " [0.00014129 0.00300554 0.0472555  0.00138717 0.00385022 0.01873291]\n",
            " [0.00024404 0.00204993 0.08661879 0.00077065 0.00385132 0.01873359]]\n"
          ]
        }
      ]
    },
    {
      "cell_type": "markdown",
      "metadata": {
        "id": "pY58PPv_WQPj"
      },
      "source": [
        "* Create 1 visualization that helps you understand the data. Below is an example from the Iris dataset. You will replace this for your regression dataset. One idea may be to create scatter plots of each feature in X with the output variable Y (the dependent variable)."
      ]
    },
    {
      "cell_type": "code",
      "execution_count": null,
      "metadata": {
        "colab": {
          "base_uri": "https://localhost:8080/",
          "height": 453
        },
        "id": "0WbgXP6DWQPj",
        "outputId": "bb776c2d-b2a4-482d-cc38-2f6e0e18d947"
      },
      "outputs": [
        {
          "output_type": "display_data",
          "data": {
            "text/plain": [
              "<Figure size 432x288 with 4 Axes>"
            ],
            "image/png": "[encoded data removed]"
          },
          "metadata": {
            "needs_background": "light"
          }
        }
      ],
      "source": [
        "from sklearn import datasets\n",
        "import numpy as np\n",
        "import seaborn as sns\n",
        "import matplotlib.pyplot as plt\n",
        "import pandas as pd\n",
        "\n",
        "# iris = datasets.load_iris()\n",
        "# df = pd.DataFrame(data= np.c_[iris['data'], iris['target']],\n",
        "#                      columns= iris['feature_names'] + ['target'])\n",
        "# sns.heatmap(df.corr(), \n",
        "#             xticklabels=df.corr().columns.values,\n",
        "#             yticklabels=df.corr().columns.values)\n",
        "# plt.show()\n",
        "\n",
        "df2 = pd.DataFrame(data=np.c_[X_norm, y], columns=list(df1.columns))\n",
        "\n",
        "fig, (ax1, ax2) = plt.subplots(1,2)\n",
        "sns.heatmap(df1.corr(), ax=ax1)\n",
        "sns.heatmap(df2.corr(), ax=ax2, xticklabels=False, yticklabels=False)\n",
        "plt.show()\n",
        "# sns.heatmap(df1.corr(), xticklabels='auto', yticklabels='auto')\n",
        "# plt.show()"
      ]
    },
    {
      "cell_type": "markdown",
      "metadata": {
        "id": "2gL-fOx4WQPk"
      },
      "source": [
        "* What insights do you gain from this visualization about your dataset? For example, in the above plot we see sepal length and sepal width are negatively correlated. In fact, sepalwidth is negatively correlated with all the features including the class label."
      ]
    },
    {
      "cell_type": "markdown",
      "metadata": {
        "id": "8TOkno_lWQPk"
      },
      "source": [
        "<font color='blue'>\n",
        "    X4，X5，X6 shows strong positive correlation regardinig Y. In-between correlations of these attributes are around 0.5 to 0.75. However, X3 and X2 shows negative correlation regarding Y, X1 shows tiny linear correlation to Y and normalization do not affect the correlation. </font>\n",
        "<br/>\n"
      ]
    },
    {
      "cell_type": "markdown",
      "metadata": {
        "id": "Mh_Fe8t_WQPk"
      },
      "source": [
        "#### 2) Train a linear regression model\n",
        "\n",
        "* Create a train and test split for your dataset by diving the dataset into a 75-25 train-test split. If your chosen dataset already comes with a train-test split use that instead. Below is code for implementing a 75-25 split."
      ]
    },
    {
      "cell_type": "code",
      "execution_count": null,
      "metadata": {
        "id": "bzmWalRSWQPk",
        "colab": {
          "base_uri": "https://localhost:8080/"
        },
        "outputId": "afd34564-8902-4087-8a17-410da71321ca"
      },
      "outputs": [
        {
          "output_type": "stream",
          "name": "stdout",
          "text": [
            "Training examples: 310\n",
            "Testing examples: 104\n"
          ]
        }
      ],
      "source": [
        "from sklearn.model_selection import train_test_split \n",
        "\n",
        "# Train Test Split\n",
        "X_train, X_test, y_train, y_test = train_test_split(X, y, test_size=0.25, random_state=0)\n",
        "print(f'Training examples: {X_train.shape[0]}\\nTesting examples: {X_test.shape[0]}')"
      ]
    },
    {
      "cell_type": "markdown",
      "metadata": {
        "id": "ezL05ZhfWQPl"
      },
      "source": [
        "* Now that you have your train and test splits, it is time to train a linear regression model for making predictions on future data!  You are encouraged to use popular packages such as sklearn; you are not expected to implement any of these algorithms yourself. We use sklearn's Linear Regression algorithm below. "
      ]
    },
    {
      "cell_type": "markdown",
      "source": [],
      "metadata": {
        "id": "2f1uMQvvnhgm"
      }
    },
    {
      "cell_type": "code",
      "execution_count": null,
      "metadata": {
        "id": "_hKh43LoWQPl",
        "colab": {
          "base_uri": "https://localhost:8080/"
        },
        "outputId": "61198e90-9d69-43f7-d6c5-0e7b3224e165"
      },
      "outputs": [
        {
          "output_type": "stream",
          "name": "stdout",
          "text": [
            "Mean Squared Error is 70.09935661580064\n"
          ]
        }
      ],
      "source": [
        "from sklearn.linear_model import LinearRegression\n",
        "from sklearn.metrics import mean_squared_error\n",
        "\n",
        "reg = LinearRegression().fit(X_train, y_train)\n",
        "y_hat = reg.predict(X_test)\n",
        "r_squared = mean_squared_error(y_test, y_hat)\n",
        "print(f'Mean Squared Error is {r_squared}')"
      ]
    },
    {
      "cell_type": "code",
      "source": [
        "# np.vstack([X.T, np.ones((1, X.shape[0]))]).T.shape"
      ],
      "metadata": {
        "id": "-Al6qlFqsNZi"
      },
      "execution_count": null,
      "outputs": []
    },
    {
      "cell_type": "code",
      "source": [
        "# use numpy to realize linear regression\n",
        "\n",
        "# append constant for X\n",
        "X1_train = np.vstack([X_train.T, np.ones((1, X_train.shape[0]))]).T\n",
        "w, _, _, _ = np.linalg.lstsq(X1_train, y_train, rcond=None)\n",
        "\n",
        "# calculate test mse\n",
        "X1_test = np.vstack([X_test.T, np.ones((1, X_test.shape[0]))]).T\n",
        "y_hat = X1_test@w\n",
        "\n",
        "print(mean_squared_error(y_hat, y_test))"
      ],
      "metadata": {
        "colab": {
          "base_uri": "https://localhost:8080/"
        },
        "id": "P0GqEMh_xnFC",
        "outputId": "8757aaf4-fc54-46f4-9419-2407a7aa25d6"
      },
      "execution_count": null,
      "outputs": [
        {
          "output_type": "stream",
          "name": "stdout",
          "text": [
            "70.09935661578972\n"
          ]
        }
      ]
    },
    {
      "cell_type": "markdown",
      "metadata": {
        "id": "z0FjVNUPWQPl"
      },
      "source": [
        "* Explain what the MSE metric is? What value is expected for a good fit? Report your value on the above dataset. \n",
        "\n"
      ]
    },
    {
      "cell_type": "markdown",
      "metadata": {
        "id": "kCIZ86fGWQPl"
      },
      "source": [
        "<font color='blue'>\n",
        "    MSE metric: the average squared difference between predicted y and the realistic y values.\n",
        "</font>\n",
        "<br/>\n",
        "<font color='blue'>\n",
        "    The lower the metric value on test dataset, the better the fitness.\n",
        "</font>"
      ]
    },
    {
      "cell_type": "markdown",
      "metadata": {
        "id": "4s9Vx2EfWQPm"
      },
      "source": [
        "<font color='blue'>\n",
        "    Our mse: 70.10.\n",
        "</font>"
      ]
    },
    {
      "cell_type": "markdown",
      "metadata": {
        "id": "IFl4Wk01WQPl"
      },
      "source": [
        "## Part 2: Regularization\n",
        "Things to do in this part:\n",
        "1. Find a dataset according to the instructions below\n",
        "2. Complete questions 3-4"
      ]
    },
    {
      "cell_type": "markdown",
      "metadata": {
        "id": "JOpDQl0mWQPm"
      },
      "source": [
        "#### 3) Using the same dataset as above, try ridge (l2 regularizatin on the weights) and lasso (l1 regularization on the weights). Below is sample code for doing the same for ridge regression. You are free to use this. You will implement your own version of l1 regularization (lasso). You are free to use built-in implementation for scikit-learn or any other machine learning library.\n",
        "\n",
        "\n"
      ]
    },
    {
      "cell_type": "code",
      "execution_count": null,
      "metadata": {
        "id": "pwhgpMhIWQPm",
        "colab": {
          "base_uri": "https://localhost:8080/"
        },
        "outputId": "27ec6092-661b-404b-c19b-c18f15abdb5e"
      },
      "outputs": [
        {
          "output_type": "stream",
          "name": "stdout",
          "text": [
            "Ridge regression: Goodness of fit given by coefficient of determination is 0.5524107580169695\n"
          ]
        }
      ],
      "source": [
        "from sklearn.linear_model import Ridge \n",
        "\n",
        "reg = Ridge(alpha=1.0).fit(X_train, y_train)\n",
        "y_hat = reg.predict(X_test)\n",
        "r_squared = reg.score(X_test, y_test)\n",
        "print(f'Ridge regression: Goodness of fit given by coefficient of determination is {r_squared}')"
      ]
    },
    {
      "cell_type": "code",
      "source": [
        "from sklearn.linear_model import Lasso \n",
        "\n",
        "reg = Lasso(alpha=1.0).fit(X_train, y_train)\n",
        "y_hat = reg.predict(X_test)\n",
        "r_squared = reg.score(X_test, y_test)\n",
        "print(f'Lasso regression: Goodness of fit given by coefficient of determination is {r_squared}')"
      ],
      "metadata": {
        "id": "6PNKbu7AQCrF",
        "colab": {
          "base_uri": "https://localhost:8080/"
        },
        "outputId": "b05ec5ff-8298-452d-cb32-86c5e07b35e2"
      },
      "execution_count": null,
      "outputs": [
        {
          "output_type": "stream",
          "name": "stdout",
          "text": [
            "Lasso regression: Goodness of fit given by coefficient of determination is 0.550260992286389\n"
          ]
        }
      ]
    },
    {
      "cell_type": "code",
      "source": [
        "alphas = [0.0001, 0.001, 0.01, 0.1, 1.0, 10.0]\n",
        "ridge_mse = []\n",
        "lasso_mse = []\n",
        "\n",
        "for alpha in alphas:\n",
        "  reg_ridge = Ridge(alpha=alpha).fit(X_train, y_train)\n",
        "  y_hat = reg_ridge.predict(X_test)\n",
        "  r_squared = mean_squared_error(y_hat, y_test)\n",
        "  ridge_mse.append(r_squared)\n",
        "\n",
        "  reg_lasso = Lasso(alpha=alpha).fit(X_train, y_train)\n",
        "  y_hat = reg_lasso.predict(X_test)\n",
        "  r_squared = mean_squared_error(y_hat, y_test)\n",
        "  lasso_mse.append(r_squared)\n",
        "\n",
        "print(f'ridge MSE with alphas: {str(ridge_mse)}')\n",
        "print(f'lasso MSE with alphas: {str(lasso_mse)}')"
      ],
      "metadata": {
        "colab": {
          "base_uri": "https://localhost:8080/"
        },
        "id": "Dc8NygkFtV_H",
        "outputId": "a2ac4258-7038-4735-cfc9-3451c3fd0638"
      },
      "execution_count": null,
      "outputs": [
        {
          "output_type": "stream",
          "name": "stdout",
          "text": [
            "ridge MSE with alphas: [70.10534421820242, 70.16048011778508, 70.75280821066752, 73.58651012597623, 75.19450889591552, 74.70089974207471]\n",
            "lasso MSE with alphas: [70.10249819905064, 70.19045853684513, 71.64113943548428, 75.00127345829168, 75.55566721517287, 87.07741389592509]\n"
          ]
        }
      ]
    },
    {
      "cell_type": "markdown",
      "metadata": {
        "id": "-AvAzh51WQPm"
      },
      "source": [
        "\n",
        "* For both l1 and l2 regularization change the regularization hyperparameter (for example alpha hyperparameter in the above cell code for ridge regression) and report changes. What do you observe? Can you explain your observation in terms of model complexity, overfitting and underfitting?"
      ]
    },
    {
      "cell_type": "markdown",
      "metadata": {
        "id": "YXB3nFGtWQPm"
      },
      "source": [
        "<font color='blue'>\n",
        "    Observation: \n",
        "</font>"
      ]
    },
    {
      "cell_type": "markdown",
      "metadata": {
        "id": "eiBp51WkWQPm"
      },
      "source": [
        "#### 4) Model Selection\n",
        "\n",
        "* In this part we would do model selection using different hyperparameters for regularizaiton we experimented with in the question 3. We would first split the dataset into train-val-test sets. Feel free to experiment with the below code to do so."
      ]
    },
    {
      "cell_type": "code",
      "execution_count": null,
      "metadata": {
        "id": "5ZL9xbpEWQPm"
      },
      "outputs": [],
      "source": [
        "from sklearn.model_selection import train_test_split \n",
        "\n",
        "#Divide dataset into a 80-20 random split into training and testing set\n",
        "X_train, X_test, y_train, y_test = train_test_split(X, y, test_size=0.2, random_state=1)\n",
        "\n",
        "#Divide the train set further into a 75-25 random split into train-val. If your dataset is small you might want to reduce the test-size parameter for val set.\n",
        "X_train, X_val, y_train, y_val = train_test_split(X_train, y_train, test_size=0.25, random_state=1) # 0.25 x 0.8 = 0.2"
      ]
    },
    {
      "cell_type": "markdown",
      "metadata": {
        "id": "tXZ5_HRoWQPm"
      },
      "source": [
        "* Do a grid-search for best hyperparameters by varying the hyperparameter controlling the l1 and l2 regularization of the weights in liner regression. Include the case where alpha=0 corresponding to vanilla linear regression in your experiment. For each hyperparameter, train your model and evaluate the performance on the validation set. Report this in a plot with x-axis being different hyperparameter values for the regularization coefficient and the y-axis being the validation MSE metric obtained. You will report 2 curves one for l1 regularization and one for l2."
      ]
    },
    {
      "cell_type": "code",
      "source": [
        "# from sklearn.model_selection import GridSearchCV\n",
        "\n",
        "# param_grid = {\n",
        "#     'alpha': [0, 1e-8, 1e-4, 1, 10],\n",
        "#     # 'max_iter': [1000, 10000, 15000, 30000],\n",
        "#     # 'solver': ['auto', 'svd', 'cholesky', 'lsqr', 'sparse_cg', 'sag', 'saga', 'lbfgs']\n",
        "# }\n",
        "\n",
        "# grid_ridge = GridSearchCV(Ridge(), param_grid)\n",
        "# best_ridge = grid_ridge.fit(X_train, y_train).best_estimator_\n",
        "# best_param = grid_ridge.best_params_\n",
        "\n",
        "# valid_pred = best_ridge.predict(X_val)\n",
        "# valid_score = mean_squared_error(valid_pred, y_val)\n",
        "\n",
        "alphas = [0, 1e-6, 0.0001, 0.001, 0.01, 0.1, 1.0, 10.0]\n",
        "ridge_mse = []\n",
        "lasso_mse = []\n",
        "\n",
        "for alpha in alphas:\n",
        "  reg_ridge = Ridge(alpha=alpha).fit(X_train, y_train)\n",
        "  y_hat = reg_ridge.predict(X_test)\n",
        "  r_squared = mean_squared_error(y_hat, y_test)\n",
        "  ridge_mse.append(r_squared)\n",
        "\n",
        "  reg_lasso = Lasso(alpha=alpha).fit(X_train, y_train)\n",
        "  y_hat = reg_lasso.predict(X_test)\n",
        "  r_squared = mean_squared_error(y_hat, y_test)\n",
        "  lasso_mse.append(r_squared)"
      ],
      "metadata": {
        "colab": {
          "base_uri": "https://localhost:8080/"
        },
        "id": "pawrNIuZw-Ij",
        "outputId": "d50cd4af-6dfe-459b-82b3-240d6488d972"
      },
      "execution_count": null,
      "outputs": [
        {
          "output_type": "stream",
          "name": "stderr",
          "text": [
            "/usr/local/lib/python3.7/dist-packages/ipykernel_launcher.py:26: UserWarning: With alpha=0, this algorithm does not converge well. You are advised to use the LinearRegression estimator\n",
            "/usr/local/lib/python3.7/dist-packages/sklearn/linear_model/_coordinate_descent.py:648: UserWarning: Coordinate descent with no regularization may lead to unexpected results and is discouraged.\n",
            "  coef_, l1_reg, l2_reg, X, y, max_iter, tol, rng, random, positive\n",
            "/usr/local/lib/python3.7/dist-packages/sklearn/linear_model/_coordinate_descent.py:648: ConvergenceWarning: Objective did not converge. You might want to increase the number of iterations, check the scale of the features or consider increasing regularisation. Duality gap: 1.127e+04, tolerance: 4.870e+00 Linear regression models with null weight for the l1 regularization term are more efficiently fitted using one of the solvers implemented in sklearn.linear_model.Ridge/RidgeCV instead.\n",
            "  coef_, l1_reg, l2_reg, X, y, max_iter, tol, rng, random, positive\n"
          ]
        }
      ]
    },
    {
      "cell_type": "code",
      "source": [
        "import matplotlib.pyplot as plt\n",
        "\n",
        "plt.figure()\n",
        "plt.plot(alphas, ridge_mse, label='ridge')\n",
        "plt.plot(alphas, lasso_mse, label='lasso')\n",
        "plt.legend()\n",
        "plt.show()"
      ],
      "metadata": {
        "colab": {
          "base_uri": "https://localhost:8080/",
          "height": 265
        },
        "id": "91t60eHeXXaG",
        "outputId": "9c10e405-5989-494a-c5ac-6b598281aa71"
      },
      "execution_count": null,
      "outputs": [
        {
          "output_type": "display_data",
          "data": {
            "text/plain": [
              "<Figure size 432x288 with 1 Axes>"
            ],
            "image/png": "[encoded data removed]"
          },
          "metadata": {
            "needs_background": "light"
          }
        }
      ]
    },
    {
      "cell_type": "markdown",
      "source": [
        "<font color='blue'>\n",
        "    TODO: replace this cell with your answer\n",
        "</font>"
      ],
      "metadata": {
        "id": "p2qMNfhztL3W"
      }
    },
    {
      "cell_type": "markdown",
      "metadata": {
        "id": "86gquHVkWQPm"
      },
      "source": [
        "**bold text** Take your best performing hyperparameters from the previous \n",
        "\n",
        "\n",
        "question as your selected model and report the performance on test set. Is it better than what you reported in question 2?\n"
      ]
    },
    {
      "cell_type": "code",
      "source": [],
      "metadata": {
        "id": "T-UqS_WwsR_M"
      },
      "execution_count": null,
      "outputs": []
    },
    {
      "cell_type": "markdown",
      "metadata": {
        "id": "UHHowEVAWQPn"
      },
      "source": [
        "<font color='blue'>\n",
        "    TODO: replace this cell with your answer\n",
        "</font>"
      ]
    },
    {
      "cell_type": "markdown",
      "metadata": {
        "id": "bVbB1KtrWQPn"
      },
      "source": [
        "This concludes homework lab 1!"
      ]
    }
  ],
  "metadata": {
    "kernelspec": {
      "display_name": "Python 3",
      "language": "python",
      "name": "python3"
    },
    "language_info": {
      "codemirror_mode": {
        "name": "ipython",
        "version": 3
      },
      "file_extension": ".py",
      "mimetype": "text/x-python",
      "name": "python",
      "nbconvert_exporter": "python",
      "pygments_lexer": "ipython3",
      "version": "3.8.5"
    },
    "colab": {
      "provenance": [],
      "collapsed_sections": [],
      "include_colab_link": true
    }
  },
  "nbformat": 4,
  "nbformat_minor": 0
}