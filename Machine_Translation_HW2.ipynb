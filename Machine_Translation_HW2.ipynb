{
  "nbformat": 4,
  "nbformat_minor": 0,
  "metadata": {
    "colab": {
      "provenance": [],
      "toc_visible": true,
      "include_colab_link": true
    },
    "kernelspec": {
      "name": "python3",
      "display_name": "Python 3"
    },
    "language_info": {
      "name": "python"
    }
  },
  "cells": [
    {
      "cell_type": "markdown",
      "metadata": {
        "id": "view-in-github",
        "colab_type": "text"
      },
      "source": [
        "<a href=\"https://colab.research.google.com/github/dadiljh/Health-Managment-System/blob/main/Machine_Translation_HW2.ipynb\" target=\"_parent\"><img src=\"https://colab.research.google.com/assets/colab-badge.svg\" alt=\"Open In Colab\"/></a>"
      ]
    },
    {
      "cell_type": "code",
      "source": [
        "import optparse\n",
        "import sys\n",
        "from collections import defaultdict"
      ],
      "metadata": {
        "id": "6FqY8i7d38pR"
      },
      "execution_count": null,
      "outputs": []
    },
    {
      "cell_type": "code",
      "execution_count": null,
      "metadata": {
        "id": "X2i31e64xL5C"
      },
      "outputs": [],
      "source": [
        "optparser = optparse.OptionParser()\n",
        "optparser.add_option(\"-d\", \"--data\", dest=\"train\", default=\"data/hansards\", help=\"Data filename prefix (default=data)\")\n",
        "optparser.add_option(\"-e\", \"--english\", dest=\"english\", default=\"e\", help=\"Suffix of English filename (default=e)\")\n",
        "optparser.add_option(\"-f\", \"--french\", dest=\"french\", default=\"f\", help=\"Suffix of French filename (default=f)\")\n",
        "optparser.add_option(\"-t\", \"--threshold\", dest=\"threshold\", default=0.5, type=\"float\", help=\"Threshold for aligning with Dice's coefficient (default=0.5)\")\n",
        "optparser.add_option(\"-n\", \"--num_sentences\", dest=\"num_sents\", default=100000000000, type=\"int\", help=\"Number of sentences to use for training and alignment\")\n",
        "(opts, _) = optparser.parse_args()\n",
        "f_data = \"%s.%s\" % (opts.train, opts.french)\n",
        "e_data = \"%s.%s\" % (opts.train, opts.english)\n",
        "\n"
      ]
    },
    {
      "cell_type": "code",
      "source": [
        "print(f_data)\n",
        "print(e_data)"
      ],
      "metadata": {
        "colab": {
          "base_uri": "https://localhost:8080/"
        },
        "id": "qW8HDAq64ZZt",
        "outputId": "d2998db9-55a9-4a43-8b0c-973fd7997d9e"
      },
      "execution_count": null,
      "outputs": [
        {
          "output_type": "stream",
          "name": "stdout",
          "text": [
            "data/hansards./root/.local/share/jupyter/runtime/kernel-d54f90e2-e60a-475f-93e5-e1d8801cfe10.json\n",
            "data/hansards.e\n"
          ]
        }
      ]
    },
    {
      "cell_type": "code",
      "source": [
        "sys.stderr.write(\"Training with Dice's coefficient...\")\n",
        "bitext = [[sentence.strip().split() for sentence in pair] for pair in zip(open(f_data), open(e_data))][:opts.num_sents]\n",
        "f_count = defaultdict(int)\n",
        "e_count = defaultdict(int)\n",
        "fe_count = defaultdict(int)\n",
        "for (n, (f, e)) in enumerate(bitext):\n",
        "  for f_i in set(f):\n",
        "    f_count[f_i] += 1\n",
        "    for e_j in set(e):\n",
        "      fe_count[(f_i,e_j)] += 1\n",
        "  for e_j in set(e):\n",
        "    e_count[e_j] += 1\n",
        "  if n % 500 == 0:\n",
        "    sys.stderr.write(\".\")\n",
        "\n",
        "dice = defaultdict(int)\n",
        "for (k, (f_i, e_j)) in enumerate(fe_count.keys()):\n",
        "  dice[(f_i,e_j)] = 2.0 * fe_count[(f_i, e_j)] / (f_count[f_i] + e_count[e_j])\n",
        "  if k % 5000 == 0:\n",
        "    sys.stderr.write(\".\")\n",
        "sys.stderr.write(\"\\n\")\n",
        "\n",
        "for (f, e) in bitext:\n",
        "  for (i, f_i) in enumerate(f):\n",
        "    for (j, e_j) in enumerate(e):\n",
        "      if dice[(f_i,e_j)] >= opts.threshold:\n",
        "        sys.stdout.write(\"%i-%i \" % (i,j))\n",
        "  sys.stdout.write(\"\\n\")"
      ],
      "metadata": {
        "id": "oGY6DDsu4SfN",
        "outputId": "1b0d6a3f-514b-4b7c-f107-963fe46eae46",
        "colab": {
          "base_uri": "https://localhost:8080/",
          "height": 262
        }
      },
      "execution_count": null,
      "outputs": [
        {
          "output_type": "stream",
          "name": "stderr",
          "text": [
            "Training with Dice's coefficient..."
          ]
        },
        {
          "output_type": "error",
          "ename": "FileNotFoundError",
          "evalue": "ignored",
          "traceback": [
            "\u001b[0;31m---------------------------------------------------------------------------\u001b[0m",
            "\u001b[0;31mFileNotFoundError\u001b[0m                         Traceback (most recent call last)",
            "\u001b[0;32m<ipython-input-4-245bdc41ca66>\u001b[0m in \u001b[0;36m<cell line: 2>\u001b[0;34m()\u001b[0m\n\u001b[1;32m      1\u001b[0m \u001b[0msys\u001b[0m\u001b[0;34m.\u001b[0m\u001b[0mstderr\u001b[0m\u001b[0;34m.\u001b[0m\u001b[0mwrite\u001b[0m\u001b[0;34m(\u001b[0m\u001b[0;34m\"Training with Dice's coefficient...\"\u001b[0m\u001b[0;34m)\u001b[0m\u001b[0;34m\u001b[0m\u001b[0;34m\u001b[0m\u001b[0m\n\u001b[0;32m----> 2\u001b[0;31m \u001b[0mbitext\u001b[0m \u001b[0;34m=\u001b[0m \u001b[0;34m[\u001b[0m\u001b[0;34m[\u001b[0m\u001b[0msentence\u001b[0m\u001b[0;34m.\u001b[0m\u001b[0mstrip\u001b[0m\u001b[0;34m(\u001b[0m\u001b[0;34m)\u001b[0m\u001b[0;34m.\u001b[0m\u001b[0msplit\u001b[0m\u001b[0;34m(\u001b[0m\u001b[0;34m)\u001b[0m \u001b[0;32mfor\u001b[0m \u001b[0msentence\u001b[0m \u001b[0;32min\u001b[0m \u001b[0mpair\u001b[0m\u001b[0;34m]\u001b[0m \u001b[0;32mfor\u001b[0m \u001b[0mpair\u001b[0m \u001b[0;32min\u001b[0m \u001b[0mzip\u001b[0m\u001b[0;34m(\u001b[0m\u001b[0mopen\u001b[0m\u001b[0;34m(\u001b[0m\u001b[0mf_data\u001b[0m\u001b[0;34m)\u001b[0m\u001b[0;34m,\u001b[0m \u001b[0mopen\u001b[0m\u001b[0;34m(\u001b[0m\u001b[0me_data\u001b[0m\u001b[0;34m)\u001b[0m\u001b[0;34m)\u001b[0m\u001b[0;34m]\u001b[0m\u001b[0;34m[\u001b[0m\u001b[0;34m:\u001b[0m\u001b[0mopts\u001b[0m\u001b[0;34m.\u001b[0m\u001b[0mnum_sents\u001b[0m\u001b[0;34m]\u001b[0m\u001b[0;34m\u001b[0m\u001b[0;34m\u001b[0m\u001b[0m\n\u001b[0m\u001b[1;32m      3\u001b[0m \u001b[0mf_count\u001b[0m \u001b[0;34m=\u001b[0m \u001b[0mdefaultdict\u001b[0m\u001b[0;34m(\u001b[0m\u001b[0mint\u001b[0m\u001b[0;34m)\u001b[0m\u001b[0;34m\u001b[0m\u001b[0;34m\u001b[0m\u001b[0m\n\u001b[1;32m      4\u001b[0m \u001b[0me_count\u001b[0m \u001b[0;34m=\u001b[0m \u001b[0mdefaultdict\u001b[0m\u001b[0;34m(\u001b[0m\u001b[0mint\u001b[0m\u001b[0;34m)\u001b[0m\u001b[0;34m\u001b[0m\u001b[0;34m\u001b[0m\u001b[0m\n\u001b[1;32m      5\u001b[0m \u001b[0mfe_count\u001b[0m \u001b[0;34m=\u001b[0m \u001b[0mdefaultdict\u001b[0m\u001b[0;34m(\u001b[0m\u001b[0mint\u001b[0m\u001b[0;34m)\u001b[0m\u001b[0;34m\u001b[0m\u001b[0;34m\u001b[0m\u001b[0m\n",
            "\u001b[0;31mFileNotFoundError\u001b[0m: [Errno 2] No such file or directory: 'data/hansards./root/.local/share/jupyter/runtime/kernel-d54f90e2-e60a-475f-93e5-e1d8801cfe10.json'"
          ]
        }
      ]
    }
  ]
}